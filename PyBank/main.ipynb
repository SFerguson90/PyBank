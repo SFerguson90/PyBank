{
 "cells": [
  {
   "cell_type": "code",
   "execution_count": 227,
   "metadata": {},
   "outputs": [],
   "source": [
    "#Importing important modules\n",
    "import pandas as pd\n",
    "import numpy as np\n",
    "from pandas import Series, DataFrame"
   ]
  },
  {
   "cell_type": "code",
   "execution_count": 228,
   "metadata": {},
   "outputs": [],
   "source": [
    "#read the CSV using pandas\n",
    "bank_data = pd.read_csv(r\"C:\\Users\\Owner\\HomeworkBankData.csv\")"
   ]
  },
  {
   "cell_type": "code",
   "execution_count": 229,
   "metadata": {},
   "outputs": [],
   "source": [
    "#Turn Bank_Data into a DataFrame and objectify it.\n",
    "PL_df = pd.DataFrame(data=bank_data)"
   ]
  },
  {
   "cell_type": "code",
   "execution_count": 230,
   "metadata": {},
   "outputs": [],
   "source": [
    "#Finding total months using len() function\n",
    "#by calling the 'Date' column of the dataframe.\n",
    "\n",
    "#Total_Months Function\n",
    "Total_Months = len(PL_df['Date'])\n",
    "\n",
    "#Total_Months Print Function\n",
    "#print(f\"Total Months: {Total_Months}\")"
   ]
  },
  {
   "cell_type": "code",
   "execution_count": 231,
   "metadata": {},
   "outputs": [],
   "source": [
    "#Get the Total of Profit/Losses column from the PL_df (Profit/Losses DataFrame)\n",
    "\n",
    "#Total_PL Function\n",
    "Total_PL = PL_df['Profit/Losses'].sum()\n",
    "\n",
    "#Total_PL Print Function\n",
    "#print(f\"Total: ${Total_PL}\")"
   ]
  },
  {
   "cell_type": "code",
   "execution_count": 232,
   "metadata": {},
   "outputs": [],
   "source": [
    "#Isolating the Profit/Losses column by dropping the 'Date' column.\n",
    "PL_alone = PL_df.drop(['Date'],axis=1)"
   ]
  },
  {
   "cell_type": "code",
   "execution_count": 233,
   "metadata": {},
   "outputs": [],
   "source": [
    "#Creating a dataframe of differentials from the Profit/Losses column\n",
    "#and objectifying the column.\n",
    "PL_differentials = PL_alone.diff(axis=0,periods=1)\n",
    "\n",
    "#Dropping the NaN value from the beginning of the column\n",
    "PL_differentials.dropna(subset=[\"Profit/Losses\"], inplace=True)"
   ]
  },
  {
   "cell_type": "code",
   "execution_count": 234,
   "metadata": {},
   "outputs": [],
   "source": [
    "#Averaging the change by taking the mean of the Profit/Losses differential column\n",
    "#and then objectifying it\n",
    "Average_Change = round(float(PL_differentials.mean()), 2)\n",
    "\n",
    "#Average Change Print Function\n",
    "#print(f\"Average Change: ${Average_Change}\")"
   ]
  },
  {
   "cell_type": "code",
   "execution_count": 235,
   "metadata": {},
   "outputs": [],
   "source": [
    "#Finding the max value from the differentials dataframe.\n",
    "#This represents the greatest increase in one day.\n",
    "Greatest_Increase = max(PL_differentials['Profit/Losses'])"
   ]
  },
  {
   "cell_type": "code",
   "execution_count": 236,
   "metadata": {},
   "outputs": [],
   "source": [
    "#Finding the minimum value from the differentials dataframe\n",
    "#This represents the greatest decrease in one day.\n",
    "Greatest_Decrease = min(PL_differentials['Profit/Losses'])"
   ]
  },
  {
   "cell_type": "code",
   "execution_count": 237,
   "metadata": {},
   "outputs": [],
   "source": [
    "#Finding the index location of the greatest decrease\n",
    "Index_Location_of_Greatest_Decrease = PL_differentials.idxmin()"
   ]
  },
  {
   "cell_type": "code",
   "execution_count": 238,
   "metadata": {},
   "outputs": [],
   "source": [
    "#Identifying and objectifying the month of the greatest decrease\n",
    "Date_of_Greatest_Decrease = PL_df['Date'][44]\n",
    "\n",
    "#Greatest Decrease Print Function\n",
    "#print(f\"Greatest Decrease in Profits: {Date_of_Greatest_Decrease} (${Greatest_Decrease})\")"
   ]
  },
  {
   "cell_type": "code",
   "execution_count": 239,
   "metadata": {},
   "outputs": [],
   "source": [
    "#Finding the index location of the greatest increase\n",
    "Index_Location_of_Greatest_Increase = PL_differentials.idxmax()"
   ]
  },
  {
   "cell_type": "code",
   "execution_count": 240,
   "metadata": {},
   "outputs": [],
   "source": [
    "#Identifying & objectifying the month of the greatest increase\n",
    "Date_of_Greatest_Increase = PL_df['Date'][25]\n",
    "\n",
    "#Greatest Increase Print Function\n",
    "#print(f\"Greatest Increase in Profits: {Date_of_Greatest_Increase} (${Greatest_Increase})\")"
   ]
  },
  {
   "cell_type": "code",
   "execution_count": 251,
   "metadata": {},
   "outputs": [
    {
     "name": "stdout",
     "output_type": "stream",
     "text": [
      "Financial Analysis\n",
      "----------------------------\n",
      "Total Months: 86\n",
      "Total: $38382578\n",
      "Average Change: $-2315.12\n",
      "Greatest Increase in Profits: Feb-12 ($1926159.0)\n",
      "Greatest Decrease in Profits: Sep-13 ($-2196167.0)\n"
     ]
    }
   ],
   "source": [
    "#Print Statements\n",
    "print(\"Financial Analysis\")\n",
    "print(\"----------------------------\")\n",
    "print(f\"Total Months: {Total_Months}\")\n",
    "print(f\"Total: ${Total_PL}\")\n",
    "print(f\"Average Change: ${Average_Change}\")\n",
    "print(f\"Greatest Increase in Profits: {Date_of_Greatest_Increase} (${Greatest_Increase})\")\n",
    "print(f\"Greatest Decrease in Profits: {Date_of_Greatest_Decrease} (${Greatest_Decrease})\")"
   ]
  },
  {
   "cell_type": "code",
   "execution_count": 268,
   "metadata": {},
   "outputs": [],
   "source": [
    "#Writing the Financial Analysis onto a text file and exporting it.\n",
    "text_file = open('Financial_AnalysisSRF.txt','w')\n",
    "text_file.write(f\"Financial Analysis\\n----------------------------\\nTotal Months: {Total_Months}\\nTotal: ${Total_PL}\\nAverage Change: ${Average_Change}\\nGreatest Increase in Profits: {Date_of_Greatest_Increase} (${Greatest_Increase})\\nGreatest Decrease in Profits: {Date_of_Greatest_Decrease} (${Greatest_Decrease})\")\n",
    "text_file.close()"
   ]
  },
  {
   "cell_type": "code",
   "execution_count": 242,
   "metadata": {},
   "outputs": [],
   "source": [
    "#Index of Objects/Variables \n",
    "#-----------------------------------------------------\n",
    "#Total months = Total_Months\n",
    "#Total Profit/Losses = Total_PL\n",
    "#Average change = Average_Change\n",
    "#Date of greatest increase = Date_of_Greatest_Increase\n",
    "#Date of greatest decrease = Date_of_Greatest_Decrease\n",
    "#Greatest increase in profits = Greatest_Increase\n",
    "#Greatest decrease in profits = Greatest_Decrease"
   ]
  },
  {
   "cell_type": "code",
   "execution_count": null,
   "metadata": {},
   "outputs": [],
   "source": []
  }
 ],
 "metadata": {
  "kernelspec": {
   "display_name": "Python 3",
   "language": "python",
   "name": "python3"
  },
  "language_info": {
   "codemirror_mode": {
    "name": "ipython",
    "version": 3
   },
   "file_extension": ".py",
   "mimetype": "text/x-python",
   "name": "python",
   "nbconvert_exporter": "python",
   "pygments_lexer": "ipython3",
   "version": "3.7.7"
  }
 },
 "nbformat": 4,
 "nbformat_minor": 4
}
